{
 "cells": [
  {
   "cell_type": "markdown",
   "metadata": {},
   "source": [
    "# Solar Credit PayGo Repayment Default"
   ]
  },
  {
   "cell_type": "code",
   "execution_count": 1,
   "metadata": {},
   "outputs": [],
   "source": [
    "%matplotlib inline\n",
    "import pandas as pd\n",
    "import numpy as np\n",
    "import matplotlib.pyplot as plt\n",
    "import seaborn as sns\n",
    "from sklearn.model_selection import train_test_split, GridSearchCV\n",
    "from sklearn.preprocessing import StandardScaler\n",
    "from sklearn.pipeline import Pipeline\n",
    "from sklearn.ensemble import RandomForestRegressor as RFR\n",
    "from sklearn.metrics import mean_squared_error as mse , r2_score\n",
    "import warnings\n",
    "warnings.filterwarnings('ignore')\n",
    "import re"
   ]
  },
  {
   "cell_type": "markdown",
   "metadata": {},
   "source": [
    "## Working Functions"
   ]
  },
  {
   "cell_type": "code",
   "execution_count": 16,
   "metadata": {},
   "outputs": [],
   "source": [
    "train = pd.read_csv('Train.csv')\n",
    "#train.head()\n",
    "metadata = pd.read_csv('metadata.csv')\n",
    "#metadata.head()\n",
    "\n",
    "metadata[['RegistrationDate','ExpectedTermDate','FirstPaymentDate','LastPaymentDate']] = metadata[['RegistrationDate','ExpectedTermDate','FirstPaymentDate','LastPaymentDate']].apply(\n",
    "    lambda x:pd.to_datetime(x, format='%d/%m/%Y %H:%M') )\n",
    "metadata['expected_installments'] = (metadata['ExpectedTermDate'] - metadata['RegistrationDate']).apply(lambda x:int(x.days/30) )\n",
    "metadata_col_drop =['PaymentMethod','SupplierName','UpsellDate','AccessoryRate','Town',\n",
    "               'RegistrationDate','ExpectedTermDate','FirstPaymentDate','LastPaymentDate']\n",
    "metadata = metadata.drop(metadata_col_drop,axis=1)\n",
    "\n",
    "\n",
    "def age_grouper(x):\n",
    "        if x<30:\n",
    "            return '<31'\n",
    "        elif x<50:\n",
    "            return '31-60'\n",
    "        elif x>60:\n",
    "            return '>60'\n",
    "        else:\n",
    "            return 'other' #not given or missing\n",
    "        \n",
    "\n",
    "def create_dict_converter(df):#train_data\n",
    "    # Get dictionaries for labels\n",
    "    for i in df.columns:\n",
    "        if df[i].dtype == 'object' and i!= 'ID' :\n",
    "            new_dict = dict()\n",
    "            for j,unique_value in enumerate(df[i].unique()):\n",
    "                new_dict[unique_value] = j\n",
    "            name_ = 'dict_'+str(i) \n",
    "            globals()[name_]=new_dict\n",
    "\n",
    "def SD_mean(x):\n",
    "    if x[3]>0:\n",
    "        return x[2]- (x[1]-x[0])/x[3]\n",
    "    else:\n",
    "        return 0\n",
    "            \n",
    "            \n",
    "def unda_df(df):#train\n",
    "    df['mean_payment'] = df['PaymentsHistory'].apply(lambda x:np.mean(list(map(float, x.strip('[]').split(','))) ))\n",
    "    df['max_payment'] = df['PaymentsHistory'].apply(lambda x:np.max(list(map(float, x.strip('[]').split(','))) ))\n",
    "    df['min_payment'] = df['PaymentsHistory'].apply(lambda x:np.min(list(map(float, x.strip('[]').split(','))) ))\n",
    "    df['amount_paid_so_far'] = df['PaymentsHistory'].apply(lambda x:np.sum(list(map(float, x.strip('[]').split(','))) ))\n",
    "    \n",
    "    all_dates = [date_ for date_list in df[\"TransactionDates\"] for date_ in re.findall(\"[^,\\[ \\]'']+\",date_list)]\n",
    "    all_dates = pd.PeriodIndex(pd.Series(all_dates).value_counts().index.values, freq='M',).sort_values().astype(str)\n",
    "    all_dates = pd.Series(all_dates).apply(lambda x:str(x)[-2:]+'-'+str(x)[:-3])\n",
    "    transaction_dict = dict()\n",
    "    for i in all_dates:\n",
    "        transaction_dict[i]=[]\n",
    "\n",
    "    for date_s,transaction_l in zip(df[\"TransactionDates\"],df[\"PaymentsHistory\"]):\n",
    "        date_l = re.findall(\"[^,\\[ \\]'']+\",date_s)\n",
    "        transaction = re.findall(\"[^,\\[ \\]'']+\",transaction_l)\n",
    "        for transaction_s,date_s in zip(transaction,date_l):\n",
    "            transaction_dict[date_s].append(transaction_s)\n",
    "        no_transaction = [da_te for da_te in transaction_dict.keys() if da_te not in date_l]\n",
    "        for j in no_transaction: # fill zero for month with no transaction\n",
    "            transaction_dict[j].append(0.0)\n",
    "\n",
    "    Transaction_df = pd.DataFrame(transaction_dict).astype(float)\n",
    "    Transaction_df['ID'] = df.ID \n",
    "    df = df.drop(['PaymentsHistory','TransactionDates'],axis=1)\n",
    "    df_data = pd.merge(metadata,df , how ='inner', on='ID')\n",
    "    df_data = pd.merge(df_data,Transaction_df , how ='inner', on='ID')\n",
    "    df_data['Deviation_from_expe_inst'] = df_data[['Deposit','TotalContractValue','mean_payment','expected_installments']].apply(SD_mean,axis=1)\n",
    "    df_data['Region'] = df_data['Region'].fillna('Not Given')\n",
    "    df_data['Age'] = df_data['Age'].apply(age_grouper)\n",
    "    return df_data\n",
    "\n",
    "    \n",
    "def unda_df_2(df_data):\n",
    "    for i in df_data.columns:\n",
    "        if df_data[i].dtype == 'object' and i!= 'ID' :\n",
    "            df_data[i] = df_data[i].astype(\"category\")\n",
    "            df_data[i] = df_data[i].apply(lambda x:globals()['dict_'+str(i)][x])\n",
    "    \n",
    "    df_data = df_data.set_index('ID')\n",
    "    df_data['max_mean_diff'] = df_data['max_payment']-df_data['mean_payment'] \n",
    "    df_data['min_mean_diff'] = df_data['mean_payment']-df_data['min_payment'] \n",
    "    df_data['amount_left'] = df_data['TotalContractValue']-df_data['Deposit']-df_data['amount_paid_so_far']\n",
    "\n",
    "    cols_to_drop = []\n",
    "    for i in df_data.columns:\n",
    "        m_vals,n_counts = np.unique(df_data[i], return_counts=True)\n",
    "        freqmax_val,max_count = m_vals[n_counts.argmax()], n_counts.max()\n",
    "\n",
    "        if freqmax_val == 0.0 and max_count>len(df_data)*0.88:\n",
    "            cols_to_drop.append(i)\n",
    "    \n",
    "    df_data_reduced = df_data.drop(cols_to_drop+['rateTypeEntity','RatePerUnit','DaysOnDeposit','Deposit'],\n",
    "                                   errors='ignore', axis=1)\n",
    "    return df_data_reduced\n",
    "\n",
    "def train_data_only(df_data_reduced):\n",
    "    df_data_reduced_ = df_data_reduced[[i for i in df_data_reduced.columns \n",
    "                                        if i not in ['m1','m2','m3','m4','m5','m6']]]\n",
    "    df_data_reduced_[['m1','m2','m3','m4','m5','m6']] = df_data_reduced[['m1','m2','m3','m4','m5','m6']]    \n",
    "    return df_data_reduced_"
   ]
  },
  {
   "cell_type": "code",
   "execution_count": 17,
   "metadata": {},
   "outputs": [],
   "source": [
    "train_data = unda_df(train)\n",
    "create_dict_converter(train_data)\n",
    "train_data_reduced_ = unda_df_2(train_data)\n",
    "train_data_reduced = train_data_only(train_data_reduced_)"
   ]
  },
  {
   "cell_type": "code",
   "execution_count": 18,
   "metadata": {},
   "outputs": [
    {
     "data": {
      "text/plain": [
       "(28007, 61)"
      ]
     },
     "execution_count": 18,
     "metadata": {},
     "output_type": "execute_result"
    }
   ],
   "source": [
    "train_data_reduced.shape"
   ]
  },
  {
   "cell_type": "markdown",
   "metadata": {},
   "source": [
    "### Baseline Model"
   ]
  },
  {
   "cell_type": "code",
   "execution_count": 36,
   "metadata": {},
   "outputs": [
    {
     "name": "stdout",
     "output_type": "stream",
     "text": [
      "MSE :  422578.662273191 \n",
      "RMSE :  583.5869063415917\n"
     ]
    }
   ],
   "source": [
    "training_data,testing_data = train_test_split(train_data_reduced, test_size= 0.2, random_state=12)\n",
    "\n",
    "percentiles_f = np.percentile( training_data[['m1','m2','m3','m4','m5','m6']] ,99.5,axis=0 )\n",
    "selection_m = training_data[['m1','m2','m3','m4','m5','m6']]<percentiles_f #== True\n",
    "trainded = training_data[selection_m.apply(lambda x:all(x==True),axis=1)]\n",
    "\n",
    "train_x = trainded[[i for i in trainded.columns if i not in ['m1','m2','m3','m4','m5','m6']]]\n",
    "train_y = trainded[['m1','m2','m3','m4','m5','m6']]\n",
    "test_x = testing_data [[i for i in trainded.columns if i not in ['m1','m2','m3','m4','m5','m6']]]\n",
    "test_y = testing_data [['m1','m2','m3','m4','m5','m6']]\n",
    "\n",
    "\n",
    "base_model = RFR()\n",
    "base_model.fit(train_x,train_y)\n",
    "model_result = base_model.predict(test_x)\n",
    "print('MSE : ',mse(model_result,test_y),'\\nRMSE : ',mse(model_result,test_y,squared=False))\n",
    "\n",
    "#plt.figure(figsize=(10,10))\n",
    "#plt.barh(train_x.columns,model.feature_importances_ )"
   ]
  },
  {
   "cell_type": "code",
   "execution_count": 31,
   "metadata": {},
   "outputs": [
    {
     "data": {
      "text/plain": [
       "<BarContainer object of 55 artists>"
      ]
     },
     "execution_count": 31,
     "metadata": {},
     "output_type": "execute_result"
    },
    {
     "data": {
      "image/png": "[encoded data removed]",
      "text/plain": [
       "<Figure size 720x720 with 1 Axes>"
      ]
     },
     "metadata": {
      "needs_background": "light"
     },
     "output_type": "display_data"
    }
   ],
   "source": [
    "plt.figure(figsize=(10,10))\n",
    "plt.barh(train_x.columns,base_model.feature_importances_ )"
   ]
  },
  {
   "cell_type": "markdown",
   "metadata": {},
   "source": [
    "### MODEL"
   ]
  },
  {
   "cell_type": "code",
   "execution_count": 38,
   "metadata": {},
   "outputs": [
    {
     "name": "stdout",
     "output_type": "stream",
     "text": [
      "MSE :  420181.29625104653 \n",
      "RMSE :  581.0382289512232\n"
     ]
    }
   ],
   "source": [
    "#percentiles_f = np.percentile( train_data_reduced[['m1','m2','m3','m4','m5','m6']] ,99.5,axis=0 )\n",
    "#selection_m = train_data_reduced[['m1','m2','m3','m4','m5','m6']]<percentiles_f #== True\n",
    "#trainded = train_data_reduced[selection_m.apply(lambda x:all(x==True),axis=1)]\n",
    "#x = trainded[[i for i in train_data_reduced.columns if i not in ['m1','m2','m3','m4','m5','m6']]]\n",
    "#y = trainded[['m1','m2','m3','m4','m5','m6']]\n",
    "#train_x,test_x,train_y,test_y = train_test_split(x,y,test_size= 0.2, random_state=12)\n",
    "\n",
    "training_data,testing_data = train_test_split(train_data_reduced, test_size= 0.2, random_state=12)\n",
    "percentiles_f = np.percentile( training_data[['m1','m2','m3','m4','m5','m6']] ,99.5,axis=0 )\n",
    "selection_m = training_data[['m1','m2','m3','m4','m5','m6']]<percentiles_f #== True\n",
    "trainded = training_data[selection_m.apply(lambda x:all(x==True),axis=1)]\n",
    "train_x = trainded[[i for i in trainded.columns if i not in ['m1','m2','m3','m4','m5','m6']]]\n",
    "train_y = trainded[['m1','m2','m3','m4','m5','m6']]\n",
    "test_x = testing_data [[i for i in trainded.columns if i not in ['m1','m2','m3','m4','m5','m6']]]\n",
    "test_y = testing_data [['m1','m2','m3','m4','m5','m6']]\n",
    "\n",
    "model = RFR(n_estimators= 700, max_depth=12, min_samples_split=10, max_features=0.7) \n",
    "model.fit(train_x, train_y)\n",
    "model_result = model.predict(test_x)\n",
    "print('MSE : ',mse(model_result,test_y),'\\nRMSE : ',mse(model_result,test_y,squared=False))\n",
    "#plt.figure(figsize=(10,10))\n",
    "#plt.barh(train_x.columns,model.feature_importances_ )\n"
   ]
  },
  {
   "cell_type": "code",
   "execution_count": 24,
   "metadata": {},
   "outputs": [
    {
     "data": {
      "text/plain": [
       "<BarContainer object of 55 artists>"
      ]
     },
     "execution_count": 24,
     "metadata": {},
     "output_type": "execute_result"
    },
    {
     "data": {
      "image/png": "[encoded data removed]",
      "text/plain": [
       "<Figure size 720x720 with 1 Axes>"
      ]
     },
     "metadata": {
      "needs_background": "light"
     },
     "output_type": "display_data"
    }
   ],
   "source": [
    "plt.figure(figsize=(10,10))\n",
    "plt.barh(train_x.columns,model.feature_importances_ )"
   ]
  },
  {
   "cell_type": "code",
   "execution_count": 25,
   "metadata": {},
   "outputs": [
    {
     "name": "stdout",
     "output_type": "stream",
     "text": [
      "M1 :  332.7402548037712 0.446660211423033\n",
      "M2 :  353.5564661351162 0.3964220484008404\n",
      "M3 :  350.5770806734049 0.4261298217240189\n",
      "M4 :  372.67469591356814 0.3346805575070617\n",
      "M5 :  380.6070921414394 0.29882845516121537\n",
      "M6 :  563.65029324835 -1.0382618806799626\n"
     ]
    }
   ],
   "source": [
    "print(\"M1 : \",mse(model_result[:,0],test_y.iloc[:,0].values,squared=False) , r2_score(model_result[:,0],test_y.iloc[:,0].values) )\n",
    "print(\"M2 : \",mse(model_result[:,1],test_y.iloc[:,1].values,squared=False) , r2_score(model_result[:,1],test_y.iloc[:,1].values) )\n",
    "print(\"M3 : \",mse(model_result[:,2],test_y.iloc[:,2].values,squared=False) , r2_score(model_result[:,2],test_y.iloc[:,2].values) )\n",
    "print(\"M4 : \",mse(model_result[:,3],test_y.iloc[:,3].values,squared=False) , r2_score(model_result[:,3],test_y.iloc[:,3].values) )\n",
    "print(\"M5 : \",mse(model_result[:,4],test_y.iloc[:,4].values,squared=False) , r2_score(model_result[:,4],test_y.iloc[:,4].values) )\n",
    "print(\"M6 : \",mse(model_result[:,5],test_y.iloc[:,5].values,squared=False) , r2_score(model_result[:,5],test_y.iloc[:,5].values) )"
   ]
  },
  {
   "cell_type": "code",
   "execution_count": 26,
   "metadata": {},
   "outputs": [
    {
     "name": "stdout",
     "output_type": "stream",
     "text": [
      "Standard Deviations\n",
      " M1 :  568.5554205866526 \tPred std :  447.3108112371351\n",
      " M2 :  580.0891686369102 \tPred std :  455.0845598514107\n",
      " M3 :  590.8066706073976 \tPred std :  462.7822485140932\n",
      " M4 :  595.3970022082203 \tPred std :  456.8933092682413\n",
      " M5 :  593.2278381758342 \tPred std :  454.5322837768939\n",
      " M6 :  680.2517515550006 \tPred std :  447.3108112371351\n"
     ]
    }
   ],
   "source": [
    "print(\"Standard Deviations\")\n",
    "print( \" M1 : \",test_y.iloc[:,0].std(),\"\\tPred std : \",model_result[:,0].std() )\n",
    "print( \" M2 : \",test_y.iloc[:,1].std(),\"\\tPred std : \",model_result[:,1].std() )\n",
    "print( \" M3 : \",test_y.iloc[:,2].std(),\"\\tPred std : \",model_result[:,2].std() )\n",
    "print( \" M4 : \",test_y.iloc[:,3].std(),\"\\tPred std : \",model_result[:,3].std() )\n",
    "print( \" M5 : \",test_y.iloc[:,4].std(),\"\\tPred std : \",model_result[:,4].std() )\n",
    "print( \" M6 : \",test_y.iloc[:,5].std(),\"\\tPred std : \",model_result[:,0].std() )"
   ]
  },
  {
   "cell_type": "code",
   "execution_count": 27,
   "metadata": {},
   "outputs": [
    {
     "data": {
      "text/html": [
       "<div>\n",
       "<style scoped>\n",
       "    .dataframe tbody tr th:only-of-type {\n",
       "        vertical-align: middle;\n",
       "    }\n",
       "\n",
       "    .dataframe tbody tr th {\n",
       "        vertical-align: top;\n",
       "    }\n",
       "\n",
       "    .dataframe thead th {\n",
       "        text-align: right;\n",
       "    }\n",
       "</style>\n",
       "<table border=\"1\" class=\"dataframe\">\n",
       "  <thead>\n",
       "    <tr style=\"text-align: right;\">\n",
       "      <th></th>\n",
       "      <th>Target</th>\n",
       "    </tr>\n",
       "    <tr>\n",
       "      <th>ID</th>\n",
       "      <th></th>\n",
       "    </tr>\n",
       "  </thead>\n",
       "  <tbody>\n",
       "    <tr>\n",
       "      <th>ID_6L67PAA x m1</th>\n",
       "      <td>1048.622246</td>\n",
       "    </tr>\n",
       "    <tr>\n",
       "      <th>ID_6L67PAA x m2</th>\n",
       "      <td>1123.390310</td>\n",
       "    </tr>\n",
       "    <tr>\n",
       "      <th>ID_6L67PAA x m3</th>\n",
       "      <td>1079.796107</td>\n",
       "    </tr>\n",
       "    <tr>\n",
       "      <th>ID_6L67PAA x m4</th>\n",
       "      <td>1086.433690</td>\n",
       "    </tr>\n",
       "    <tr>\n",
       "      <th>ID_6L67PAA x m5</th>\n",
       "      <td>1087.980280</td>\n",
       "    </tr>\n",
       "  </tbody>\n",
       "</table>\n",
       "</div>"
      ],
      "text/plain": [
       "                      Target\n",
       "ID                          \n",
       "ID_6L67PAA x m1  1048.622246\n",
       "ID_6L67PAA x m2  1123.390310\n",
       "ID_6L67PAA x m3  1079.796107\n",
       "ID_6L67PAA x m4  1086.433690\n",
       "ID_6L67PAA x m5  1087.980280"
      ]
     },
     "execution_count": 27,
     "metadata": {},
     "output_type": "execute_result"
    }
   ],
   "source": [
    "test  = pd.read_csv(\"Test.csv\")\n",
    "test_data = unda_df(test)\n",
    "test_data_reduced_ = unda_df_2(test_data)\n",
    "model_result = model.predict(test_data_reduced_)\n",
    "model_result_df=pd.DataFrame(model_result,index=test_data_reduced_.index, columns=['m1','m2','m3','m4','m5','m6'])\n",
    "model_result_df = model_result_df.stack().reset_index()\n",
    "model_result_df['ID']= model_result_df[['ID','level_1']].agg(' x '.join, axis=1)\n",
    "model_result_df = model_result_df.drop('level_1',axis=1).rename(columns={0:'Target'}).set_index('ID')\n",
    "model_result_df.to_csv(\"SubmissionDateColumns.csv\")\n",
    "model_result_df.head()\n"
   ]
  },
  {
   "cell_type": "code",
   "execution_count": 13,
   "metadata": {},
   "outputs": [
    {
     "data": {
      "text/html": [
       "<div>\n",
       "<style scoped>\n",
       "    .dataframe tbody tr th:only-of-type {\n",
       "        vertical-align: middle;\n",
       "    }\n",
       "\n",
       "    .dataframe tbody tr th {\n",
       "        vertical-align: top;\n",
       "    }\n",
       "\n",
       "    .dataframe thead th {\n",
       "        text-align: right;\n",
       "    }\n",
       "</style>\n",
       "<table border=\"1\" class=\"dataframe\">\n",
       "  <thead>\n",
       "    <tr style=\"text-align: right;\">\n",
       "      <th></th>\n",
       "      <th>Target</th>\n",
       "    </tr>\n",
       "    <tr>\n",
       "      <th>ID</th>\n",
       "      <th></th>\n",
       "    </tr>\n",
       "  </thead>\n",
       "  <tbody>\n",
       "    <tr>\n",
       "      <th>ID_6L67PAA x m1</th>\n",
       "      <td>1070.898034</td>\n",
       "    </tr>\n",
       "    <tr>\n",
       "      <th>ID_6L67PAA x m2</th>\n",
       "      <td>1110.187087</td>\n",
       "    </tr>\n",
       "    <tr>\n",
       "      <th>ID_6L67PAA x m3</th>\n",
       "      <td>1109.479907</td>\n",
       "    </tr>\n",
       "    <tr>\n",
       "      <th>ID_6L67PAA x m4</th>\n",
       "      <td>1102.393687</td>\n",
       "    </tr>\n",
       "    <tr>\n",
       "      <th>ID_6L67PAA x m5</th>\n",
       "      <td>1104.067719</td>\n",
       "    </tr>\n",
       "  </tbody>\n",
       "</table>\n",
       "</div>"
      ],
      "text/plain": [
       "                      Target\n",
       "ID                          \n",
       "ID_6L67PAA x m1  1070.898034\n",
       "ID_6L67PAA x m2  1110.187087\n",
       "ID_6L67PAA x m3  1109.479907\n",
       "ID_6L67PAA x m4  1102.393687\n",
       "ID_6L67PAA x m5  1104.067719"
      ]
     },
     "execution_count": 13,
     "metadata": {},
     "output_type": "execute_result"
    }
   ],
   "source": [
    "model_result_df.head()"
   ]
  }
 ],
 "metadata": {
  "interpreter": {
   "hash": "3bc81eff3f7349fb5c9010b3f98278c4de2e0aa5a877fb2184178b843625e416"
  },
  "kernelspec": {
   "display_name": "Python 3",
   "language": "python",
   "name": "python3"
  },
  "language_info": {
   "codemirror_mode": {
    "name": "ipython",
    "version": 3
   },
   "file_extension": ".py",
   "mimetype": "text/x-python",
   "name": "python",
   "nbconvert_exporter": "python",
   "pygments_lexer": "ipython3",
   "version": "3.7.10"
  },
  "latex_envs": {
   "LaTeX_envs_menu_present": true,
   "autoclose": false,
   "autocomplete": true,
   "bibliofile": "biblio.bib",
   "cite_by": "apalike",
   "current_citInitial": 1,
   "eqLabelWithNumbers": true,
   "eqNumInitial": 1,
   "hotkeys": {
    "equation": "Ctrl-E",
    "itemize": "Ctrl-I"
   },
   "labels_anchors": false,
   "latex_user_defs": false,
   "report_style_numbering": false,
   "user_envs_cfg": false
  },
  "toc": {
   "base_numbering": 1,
   "nav_menu": {},
   "number_sections": true,
   "sideBar": true,
   "skip_h1_title": false,
   "title_cell": "Table of Contents",
   "title_sidebar": "Contents",
   "toc_cell": false,
   "toc_position": {},
   "toc_section_display": true,
   "toc_window_display": false
  }
 },
 "nbformat": 4,
 "nbformat_minor": 4
}
